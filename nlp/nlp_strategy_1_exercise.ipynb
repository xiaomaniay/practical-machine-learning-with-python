{
 "cells": [
  {
   "cell_type": "code",
   "execution_count": 3,
   "metadata": {},
   "outputs": [],
   "source": [
    "from nlp_strategy_1 import build_dataset\n",
    "\n",
    "seed_urls = ['https://inshorts.com/en/read/technology',\n",
    "             'https://inshorts.com/en/read/sports',\n",
    "             'https://inshorts.com/en/read/world']\n",
    "news_df = build_dataset(seed_urls)"
   ]
  },
  {
   "cell_type": "code",
   "execution_count": 5,
   "metadata": {},
   "outputs": [
    {
     "data": {
      "text/html": [
       "<div>\n",
       "<style scoped>\n",
       "    .dataframe tbody tr th:only-of-type {\n",
       "        vertical-align: middle;\n",
       "    }\n",
       "\n",
       "    .dataframe tbody tr th {\n",
       "        vertical-align: top;\n",
       "    }\n",
       "\n",
       "    .dataframe thead th {\n",
       "        text-align: right;\n",
       "    }\n",
       "</style>\n",
       "<table border=\"1\" class=\"dataframe\">\n",
       "  <thead>\n",
       "    <tr style=\"text-align: right;\">\n",
       "      <th></th>\n",
       "      <th>news_headline</th>\n",
       "      <th>news_article</th>\n",
       "      <th>news_category</th>\n",
       "    </tr>\n",
       "  </thead>\n",
       "  <tbody>\n",
       "    <tr>\n",
       "      <th>0</th>\n",
       "      <td>Google responds to bug showing navigation in U...</td>\n",
       "      <td>Google has responded after several Indian user...</td>\n",
       "      <td>technology</td>\n",
       "    </tr>\n",
       "    <tr>\n",
       "      <th>1</th>\n",
       "      <td>Was fixed in 2017: Google on 'Maps fooled you'...</td>\n",
       "      <td>Google has responded after an image of a banne...</td>\n",
       "      <td>technology</td>\n",
       "    </tr>\n",
       "    <tr>\n",
       "      <th>2</th>\n",
       "      <td>China unveils world's first female AI news anchor</td>\n",
       "      <td>Chinese state-owned Xinhua news agency unveile...</td>\n",
       "      <td>technology</td>\n",
       "    </tr>\n",
       "    <tr>\n",
       "      <th>3</th>\n",
       "      <td>Tech giants aren't regulated, shouldn't be let...</td>\n",
       "      <td>Kotak Mahindra Bank Managing Director Uday Kot...</td>\n",
       "      <td>technology</td>\n",
       "    </tr>\n",
       "    <tr>\n",
       "      <th>4</th>\n",
       "      <td>Kerala Police inducts India's first humanoid r...</td>\n",
       "      <td>Kerala Chief Minister Pinarayi Vijayan inaugur...</td>\n",
       "      <td>technology</td>\n",
       "    </tr>\n",
       "    <tr>\n",
       "      <th>5</th>\n",
       "      <td>IIT Madras develops algorithm to prevent stamp...</td>\n",
       "      <td>IIT Madras researchers have developed an algor...</td>\n",
       "      <td>technology</td>\n",
       "    </tr>\n",
       "    <tr>\n",
       "      <th>6</th>\n",
       "      <td>18-yr-old US student held for making iOS app t...</td>\n",
       "      <td>Collin Howard, a California University Santa C...</td>\n",
       "      <td>technology</td>\n",
       "    </tr>\n",
       "    <tr>\n",
       "      <th>7</th>\n",
       "      <td>Nestlé, others pull YouTube ads over child por...</td>\n",
       "      <td>Companies including Nestlé and 'Fortnite' make...</td>\n",
       "      <td>technology</td>\n",
       "    </tr>\n",
       "    <tr>\n",
       "      <th>8</th>\n",
       "      <td>Russia to ban soldiers from using smartphones</td>\n",
       "      <td>The lower house of the Russian Parliament has ...</td>\n",
       "      <td>technology</td>\n",
       "    </tr>\n",
       "    <tr>\n",
       "      <th>9</th>\n",
       "      <td>Ex-Apple lawyer charged for insider trading ge...</td>\n",
       "      <td>Former Apple lawyer Gene Levoff was released o...</td>\n",
       "      <td>technology</td>\n",
       "    </tr>\n",
       "  </tbody>\n",
       "</table>\n",
       "</div>"
      ],
      "text/plain": [
       "                                       news_headline  \\\n",
       "0  Google responds to bug showing navigation in U...   \n",
       "1  Was fixed in 2017: Google on 'Maps fooled you'...   \n",
       "2  China unveils world's first female AI news anchor   \n",
       "3  Tech giants aren't regulated, shouldn't be let...   \n",
       "4  Kerala Police inducts India's first humanoid r...   \n",
       "5  IIT Madras develops algorithm to prevent stamp...   \n",
       "6  18-yr-old US student held for making iOS app t...   \n",
       "7  Nestlé, others pull YouTube ads over child por...   \n",
       "8      Russia to ban soldiers from using smartphones   \n",
       "9  Ex-Apple lawyer charged for insider trading ge...   \n",
       "\n",
       "                                        news_article news_category  \n",
       "0  Google has responded after several Indian user...    technology  \n",
       "1  Google has responded after an image of a banne...    technology  \n",
       "2  Chinese state-owned Xinhua news agency unveile...    technology  \n",
       "3  Kotak Mahindra Bank Managing Director Uday Kot...    technology  \n",
       "4  Kerala Chief Minister Pinarayi Vijayan inaugur...    technology  \n",
       "5  IIT Madras researchers have developed an algor...    technology  \n",
       "6  Collin Howard, a California University Santa C...    technology  \n",
       "7  Companies including Nestlé and 'Fortnite' make...    technology  \n",
       "8  The lower house of the Russian Parliament has ...    technology  \n",
       "9  Former Apple lawyer Gene Levoff was released o...    technology  "
      ]
     },
     "execution_count": 5,
     "metadata": {},
     "output_type": "execute_result"
    }
   ],
   "source": [
    "news_df.head(10)"
   ]
  },
  {
   "cell_type": "code",
   "execution_count": 6,
   "metadata": {},
   "outputs": [
    {
     "data": {
      "text/plain": [
       "technology    25\n",
       "sports        25\n",
       "world         25\n",
       "Name: news_category, dtype: int64"
      ]
     },
     "execution_count": 6,
     "metadata": {},
     "output_type": "execute_result"
    }
   ],
   "source": [
    "news_df.news_category.value_counts()"
   ]
  },
  {
   "cell_type": "code",
   "execution_count": null,
   "metadata": {},
   "outputs": [],
   "source": []
  }
 ],
 "metadata": {
  "kernelspec": {
   "display_name": "Python 3",
   "language": "python",
   "name": "python3"
  },
  "language_info": {
   "codemirror_mode": {
    "name": "ipython",
    "version": 3
   },
   "file_extension": ".py",
   "mimetype": "text/x-python",
   "name": "python",
   "nbconvert_exporter": "python",
   "pygments_lexer": "ipython3",
   "version": "3.6.5"
  }
 },
 "nbformat": 4,
 "nbformat_minor": 2
}
